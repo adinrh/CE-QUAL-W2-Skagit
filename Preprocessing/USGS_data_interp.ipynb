{
 "cells": [
  {
   "cell_type": "code",
   "execution_count": 2,
   "metadata": {},
   "outputs": [],
   "source": [
    "from dataretrieval import nwis\n",
    "from dataretrieval import wqp\n",
    "import pandas as pd\n",
    "\n",
    "# NWM dataset \n",
    "# https://github.com/NOAA-OWP/hydrotools?tab=readme-ov-file\n"
   ]
  },
  {
   "cell_type": "markdown",
   "metadata": {},
   "source": [
    "### Data source, availability, and information\n",
    "From upstream to downsteam\n",
    "\n",
    "#### 3. Baker River at Henry Thompson BR at Concrete, WA - 12193400 \n",
    "Note: inflow discharge B\\\n",
    "source: https://waterdata.usgs.gov/monitoring-location/12193400/#dataTypeId=continuous-00065-0&period=P7D&showMedian=false\\\n",
    "Availability: Gage height, discharge\\\n",
    "Latitude 48°32'26\",   Longitude 121°44'32\"   NAD27\\\n",
    "Skagit County, Washington, Hydrologic Unit 17110005\\\n",
    "Drainage area: 297 square miles\\\n",
    "Datum of gage: 174.08 feet above   NAVD88.\n",
    "\n",
    "#### 4. Skagit River Near Concrete, WA - 12194000\n",
    "Note: inflow discharge C\\\n",
    "source: https://waterdata.usgs.gov/monitoring-location/12194000/#dataTypeId=continuous-00065-0&period=P7D&showMedian=false\\\n",
    "Availability: Gage height, discharge\\\n",
    "Latitude 48°31'28\",   Longitude 121°46'11\"   NAD27\\\n",
    "Skagit County, Washington, Hydrologic Unit 17110007\\\n",
    "Drainage area: 2,737 square miles\\\n",
    "Datum of gage: 133.96 feet above   NAVD88.\n",
    "\n"
   ]
  },
  {
   "cell_type": "code",
   "execution_count": 3,
   "metadata": {},
   "outputs": [],
   "source": [
    "def get_nWIS_data( siteNumbers, parameterCds, startDate, endDate):\n",
    "    # This function download NWIS data\n",
    "    # and save it to a CSV file\n",
    "\n",
    "    for site in siteNumbers:\n",
    "    \n",
    "        # Get site information\n",
    "        chop_tank_info, md = nwis.get_info(sites=site)\n",
    "\n",
    "        # print site information\n",
    "        print(f\"Site information for {site}:\")\n",
    "        csv_filename = f\"info_site_{site}.csv\"\n",
    "        chop_tank_info.to_csv(csv_filename)\n",
    "\n",
    "        #rawData, md = nwis.get_dv(sites=siteNumbers, parameterCd=parameterCds,\n",
    "        #                                     start=startDate, end=endDate)\n",
    "        rawData, md = nwis.get_iv(sites=site, parameterCd=parameterCds,\n",
    "                                start=startDate, end=endDate)\n",
    "        \n",
    "        # Check if columns exist before renaming\n",
    "        rename_mapping = {\n",
    "            \"00060\": \"Discharge (cfs)\",\n",
    "            \"00065\": \"Gage Height (ft)\",\n",
    "            \"00010\": \"Temperature (C)\",\n",
    "            \"00062\": \"WSE above datum (ft)\",\n",
    "        }\n",
    "\n",
    "        # Check if the columns to rename exist in the DataFrame\n",
    "        # and rename them accordingly \n",
    "        existing_columns = rawData.columns.intersection(rename_mapping.keys())\n",
    "        if not existing_columns.empty:\n",
    "            rawData = rawData.rename(columns={col: rename_mapping[col] for col in existing_columns})\n",
    "            # Drop columns ending with '_cd'\n",
    "            columns_to_drop = [col + '_cd' for col in existing_columns]\n",
    "            rawData = rawData.drop(columns=columns_to_drop)\n",
    "        \n",
    "        # Remove timezone from datetime and convert to local time\n",
    "        rawData=rawData.tz_localize(None)\n",
    "        rawData.index=rawData.index-pd.Timedelta(hours=8)\n",
    "        \n",
    "        # Convert index to a column\n",
    "        rawData = rawData.reset_index().rename(columns={'datetime': 'date'})\n",
    "        \n",
    "        # # Save rawData to a CSV file\n",
    "        # csv_filename = f\"rawData_site_{site}.csv\"\n",
    "        # rawData.to_csv(csv_filename, index=False)\n",
    "        # print(f\"Data for site {site} saved to {csv_filename}\")\n",
    "        # print(rawData.head(10))\n",
    "    return rawData\n",
    "   "
   ]
  },
  {
   "cell_type": "code",
   "execution_count": 4,
   "metadata": {},
   "outputs": [
    {
     "name": "stdout",
     "output_type": "stream",
     "text": [
      "Site information for 12193400:\n",
      "Site information for 12194000:\n"
     ]
    }
   ],
   "source": [
    "# site numbers for the USGS gage\n",
    "siteNumbers1 = [\"12193400\"]\n",
    "siteNumbers2 = [\"12194000\"]\n",
    "#siteNumbers = [\"12193400\"]\n",
    "\n",
    "parameterCds = [\"00065\",\"00060\",\"00010\",\"00062\"]  # wse, discharge, and temperature, wse above datum\n",
    "#statCd = [\"00001\",\"00003\"]  # Mean and maximum\n",
    "startDate = \"2021-01-01\"\n",
    "endDate = \"2023-01-02\"\n",
    "\n",
    "rawData1=get_nWIS_data( siteNumbers1, parameterCds, startDate, endDate)\n",
    "rawData1=rawData1.drop(columns=['site_no'])\n",
    "rawData2=get_nWIS_data( siteNumbers2, parameterCds, startDate, endDate)\n",
    "rawData2=rawData2.drop(columns=['site_no'])"
   ]
  },
  {
   "cell_type": "code",
   "execution_count": 5,
   "metadata": {},
   "outputs": [
    {
     "name": "stdout",
     "output_type": "stream",
     "text": [
      "                 date  Discharge (cfs)  Gage Height (ft)\n",
      "0 2021-01-01 00:00:00      1680.000000          3.190000\n",
      "1 2021-01-01 00:05:00      1640.000000          3.160000\n",
      "2 2021-01-01 00:10:00      1600.000000          3.130000\n",
      "3 2021-01-01 00:15:00      1560.000000          3.100000\n",
      "4 2021-01-01 00:20:00      1516.666667          3.063333\n"
     ]
    }
   ],
   "source": [
    "# Merge rawData1 with rawData2 on the 'date' column using an outer join\n",
    "merged_rawData1 = pd.merge(rawData2[['date']], rawData1, on='date', how='left')\n",
    "\n",
    "# Set the 'date' column as the index for interpolation\n",
    "merged_rawData1.set_index('date', inplace=True)\n",
    "\n",
    "# Interpolate missing values in rawData1 columns to match rawData2's date column\n",
    "interp_rawData1 = merged_rawData1.interpolate(method='time')\n",
    "\n",
    "# Reset the index after interpolation\n",
    "interp_rawData1.reset_index(inplace=True)\n",
    "\n",
    "# Print or save the interpolated data\n",
    "print(interp_rawData1.head())\n"
   ]
  },
  {
   "cell_type": "code",
   "execution_count": 6,
   "metadata": {},
   "outputs": [
    {
     "name": "stdout",
     "output_type": "stream",
     "text": [
      "                 date  Discharge (cfs)  Gage Height (ft)  Discharge (cms)  \\\n",
      "0 2021-01-01 00:00:00     18280.000000         21.730000       517.631104   \n",
      "1 2021-01-01 00:05:00     17940.000000         21.640000       508.003392   \n",
      "2 2021-01-01 00:10:00     17900.000000         21.600000       506.870720   \n",
      "3 2021-01-01 00:15:00     17760.000000         21.550000       502.906368   \n",
      "4 2021-01-01 00:20:00     17816.666667         21.533333       504.510987   \n",
      "5 2021-01-01 00:25:00     17673.333333         21.456667       500.452245   \n",
      "6 2021-01-01 00:30:00     17530.000000         21.390000       496.393504   \n",
      "7 2021-01-01 00:35:00     17623.333333         21.416667       499.036405   \n",
      "8 2021-01-01 00:40:00     17416.666667         21.373333       493.184267   \n",
      "9 2021-01-01 00:45:00     17410.000000         21.350000       492.995488   \n",
      "\n",
      "   Gage Height (m)  \n",
      "0         6.623304  \n",
      "1         6.595872  \n",
      "2         6.583680  \n",
      "3         6.568440  \n",
      "4         6.563360  \n",
      "5         6.539992  \n",
      "6         6.519672  \n",
      "7         6.527800  \n",
      "8         6.514592  \n",
      "9         6.507480  \n",
      "Merged data saved to rawDataUpstream.csv\n"
     ]
    }
   ],
   "source": [
    "# Ensure the 'date' column is excluded from the addition operation\n",
    "numeric_columns = interp_rawData1.columns.difference(['date'])\n",
    "\n",
    "# Add only numeric columns\n",
    "rawData3 = interp_rawData1.copy()\n",
    "rawData3[numeric_columns] = interp_rawData1[numeric_columns] + rawData2[numeric_columns]\n",
    "\n",
    "# Add calculated columns for discharge in cms and gage height in meters for rawData3\n",
    "rawData3['Discharge (cms)'] = rawData3['Discharge (cfs)'] * 0.0283168  # Convert cfs to cms\n",
    "rawData3['Gage Height (m)'] = rawData3['Gage Height (ft)'] * 0.3048  \n",
    "\n",
    "# Print the first 10 rows of the resulting DataFrame\n",
    "print(rawData3.head(10))\n",
    "\n",
    "# Save the merged data to a CSV file\n",
    "csv_filename = \"rawDataUpstream.csv\"\n",
    "rawData3.to_csv(csv_filename, index=False)\n",
    "print(f\"Merged data saved to {csv_filename}\")"
   ]
  }
 ],
 "metadata": {
  "kernelspec": {
   "display_name": "ssmc",
   "language": "python",
   "name": "python3"
  },
  "language_info": {
   "codemirror_mode": {
    "name": "ipython",
    "version": 3
   },
   "file_extension": ".py",
   "mimetype": "text/x-python",
   "name": "python",
   "nbconvert_exporter": "python",
   "pygments_lexer": "ipython3",
   "version": "3.11.2"
  }
 },
 "nbformat": 4,
 "nbformat_minor": 2
}
