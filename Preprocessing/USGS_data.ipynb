{
 "cells": [
  {
   "cell_type": "code",
   "execution_count": 2,
   "metadata": {},
   "outputs": [],
   "source": [
    "from dataretrieval import nwis\n",
    "from dataretrieval import wqp\n",
    "\n",
    "# NWM dataset \n",
    "# https://github.com/NOAA-OWP/hydrotools?tab=readme-ov-file\n"
   ]
  },
  {
   "cell_type": "markdown",
   "metadata": {},
   "source": [
    "### Data source, availability, and information\n",
    "From upstream to downsteam\n",
    "#### 1. Skagit River Above Miller Creek Near Rockport, WA - 12189700\n",
    "source: https://waterdata.usgs.gov/monitoring-location/12189700/#dataTypeId=continuous-00065-0&period=P7D&showMedian=false\\\n",
    "Availability: Gage height, feet (from 5/2020).\\\n",
    "Latitude 48°28'50.80\",   Longitude 121°39'04.70\"   NAD83.\\\n",
    "Skagit County, Washington, Hydrologic Unit 17110005.\\\n",
    "Datum of gage: 199.93 feet above   NAVD88.\\\n",
    "\n",
    "\n",
    "#### 2. Lake Shannon at Concrete, WA - 12193000 \n",
    "source: https://waterdata.usgs.gov/monitoring-location/12193000/#dataTypeId=continuous-62615-0&period=P7D&showMedian=true\\\n",
    "Availability: Gage height, feet (from 5/2020)\\\n",
    "Latitude 48°32'53\",   Longitude 121°44'22\"   NAD27\\\n",
    "Skagit County, Washington, Hydrologic Unit 17110005\\\n",
    "Drainage area: 297 square miles\\\n",
    "Datum of gage: 0. feet above   NAVD88.\\\n",
    "Note: Location inside the dam\\\n",
    "\n",
    "#### 3. Baker River at Henry Thompson BR at Concrete, WA - 12193400 \n",
    "Note: inflow discharge B\\\n",
    "source: https://waterdata.usgs.gov/monitoring-location/12193400/#dataTypeId=continuous-00065-0&period=P7D&showMedian=false\\\n",
    "Availability: Gage height, discharge\\\n",
    "Latitude 48°32'26\",   Longitude 121°44'32\"   NAD27\\\n",
    "Skagit County, Washington, Hydrologic Unit 17110005\\\n",
    "Drainage area: 297 square miles\\\n",
    "Datum of gage: 174.08 feet above   NAVD88.\n",
    "\n",
    "#### 4. Skagit River Near Concrete, WA - 12194000\n",
    "Note: inflow discharge C\\\n",
    "source: https://waterdata.usgs.gov/monitoring-location/12194000/#dataTypeId=continuous-00065-0&period=P7D&showMedian=false\\\n",
    "Availability: Gage height, discharge\\\n",
    "Latitude 48°31'28\",   Longitude 121°46'11\"   NAD27\\\n",
    "Skagit County, Washington, Hydrologic Unit 17110007\\\n",
    "Drainage area: 2,737 square miles\\\n",
    "Datum of gage: 133.96 feet above   NAVD88.\n",
    "\n",
    "#### 5. Finney Creek at South Skagit Hwy NR Concrete, WA - 12194580\n",
    "source: https://waterdata.usgs.gov/monitoring-location/12194580/#dataTypeId=continuous-00065-0&period=P7D&showMedian=false\\\n",
    "Availability: Gage height\\\n",
    "Latitude 48°31'17.91\",   Longitude 121°50'24.04\"   NAD83\\\n",
    "Skagit County, Washington, Hydrologic Unit 17110007\\\n",
    "Datum of gage: 133 feet above   NAVD88.\n",
    "\n",
    "#### 6. Skagit River Near Sedro Woolley, WA - 12199000\n",
    "source: https://waterdata.usgs.gov/monitoring-location/12199000/#dataTypeId=continuous-00065-0&period=P7D&showMedian=false\\\n",
    "Availability: Gage height \\\n",
    "Latitude 48°29'03\",   Longitude 122°14'31\"   NAD27\\\n",
    "Skagit County, Washington, Hydrologic Unit 17110007\\\n",
    "Drainage area: 3,015 square miles\\\n",
    "Datum of gage: 3.81 feet above   NAVD88.\n",
    "\n",
    "#### 7. Skagit River Near Mount Vernon, WA - 12200500\n",
    "source: https://waterdata.usgs.gov/monitoring-location/12200500/#dataTypeId=continuous-00065-0&period=P7D&showMedian=false\\\n",
    "Availability: Gage height, discharge, temperature, turbidity (9/2016 - 10/2017) \\\n",
    "Latitude 48°26'42\",   Longitude 122°20'03\"   NAD27\\\n",
    "Skagit County, Washington, Hydrologic Unit 17110007\\\n",
    "Drainage area: 3,093 square miles\\\n",
    "Datum of gage: 3.80 feet above   NAVD88.\n",
    "\n",
    "#### 8. Sauk River Near Sauk, WA - 12189500\n",
    "Note: Can be used as temperature input\n",
    "source: https://waterdata.usgs.gov/monitoring-location/12189500/#dataTypeId=continuous-00065-0&period=P7D&showMedian=false\\\n",
    "Availability: Gage height, discharge, temperature, turbidity (9/2011 - 4/2021) \\\n",
    "Latitude 48°25'29\",   Longitude 121°34'02\"   NAD27\\\n",
    "Skagit County, Washington, Hydrologic Unit 17110006\\\n",
    "Drainage area: 714 square miles\\\n",
    "Datum of gage: 266 feet above   NGVD29.\n",
    "\n",
    "#### 8. Skagit River at Marblemount, WA - 12181000\n",
    "Note: Can be used as temperature input\\\n",
    "source: https://waterdata.usgs.gov/monitoring-location/12181000/#dataTypeId=continuous-00065-85281465&period=P7D&showMedian=false\\\n",
    "Availability: Gage height, discharge, temperature\\\n",
    "Latitude 48°32'02\",   Longitude 121°25'43\"   NAD27\\\n",
    "Skagit County, Washington, Hydrologic Unit 17110005\\\n",
    "Drainage area: 1,381 square miles\\\n",
    "Datum of gage: 308.64 feet above   NAVD88."
   ]
  },
  {
   "cell_type": "code",
   "execution_count": 1,
   "metadata": {},
   "outputs": [
    {
     "ename": "NameError",
     "evalue": "name 'nwis' is not defined",
     "output_type": "error",
     "traceback": [
      "\u001b[31m---------------------------------------------------------------------------\u001b[39m",
      "\u001b[31mNameError\u001b[39m                                 Traceback (most recent call last)",
      "\u001b[36mCell\u001b[39m\u001b[36m \u001b[39m\u001b[32mIn[1]\u001b[39m\u001b[32m, line 10\u001b[39m\n\u001b[32m      5\u001b[39m endDate = \u001b[33m\"\u001b[39m\u001b[33m2022-01-01\u001b[39m\u001b[33m\"\u001b[39m\n\u001b[32m      7\u001b[39m \u001b[38;5;66;03m#rawData, md = nwis.get_dv(sites=siteNumbers, parameterCd=parameterCds,\u001b[39;00m\n\u001b[32m      8\u001b[39m \u001b[38;5;66;03m#                                     start=startDate, end=endDate)\u001b[39;00m\n\u001b[32m---> \u001b[39m\u001b[32m10\u001b[39m rawData, md = \u001b[43mnwis\u001b[49m.get_iv(sites=siteNumbers, parameterCd=parameterCds,\n\u001b[32m     11\u001b[39m                             start=startDate, end=endDate)\n",
      "\u001b[31mNameError\u001b[39m: name 'nwis' is not defined"
     ]
    }
   ],
   "source": [
    "siteNumbers = [\"12193400\", \"12194000\"]\n",
    "parameterCds = [\"00065\",\"00060\"]  # wse and discharge\n",
    "#statCd = [\"00001\",\"00003\"]  # Mean and maximum\n",
    "startDate = \"2021-01-01\"\n",
    "endDate = \"2022-01-01\"\n",
    "\n",
    "#rawData, md = nwis.get_dv(sites=siteNumbers, parameterCd=parameterCds,\n",
    "#                                     start=startDate, end=endDate)\n",
    "\n",
    "rawData, md = nwis.get_iv(sites=siteNumbers, parameterCd=parameterCds,\n",
    "                            start=startDate, end=endDate)\n"
   ]
  },
  {
   "cell_type": "code",
   "execution_count": null,
   "metadata": {},
   "outputs": [
    {
     "name": "stdout",
     "output_type": "stream",
     "text": [
      "                                     00060 00060_cd  00065 00065_cd\n",
      "site_no  datetime                                                  \n",
      "12193400 2021-01-01 08:00:00+00:00  1680.0        A   3.19        A\n",
      "         2021-01-01 08:15:00+00:00  1560.0        A   3.10        A\n",
      "         2021-01-01 08:30:00+00:00  1430.0        A   2.99        A\n",
      "         2021-01-01 08:45:00+00:00  1410.0        A   2.98        A\n",
      "         2021-01-01 09:00:00+00:00  1410.0        A   2.98        A\n",
      "         2021-01-01 09:15:00+00:00  1430.0        A   2.99        A\n",
      "         2021-01-01 09:30:00+00:00  1430.0        A   2.99        A\n",
      "         2021-01-01 09:45:00+00:00  1430.0        A   2.99        A\n",
      "         2021-01-01 10:00:00+00:00  1430.0        A   2.99        A\n",
      "         2021-01-01 10:15:00+00:00  1430.0        A   2.99        A\n"
     ]
    }
   ],
   "source": [
    "rawData.head(10)\n",
    "\n"
   ]
  },
  {
   "cell_type": "code",
   "execution_count": 39,
   "metadata": {},
   "outputs": [
    {
     "name": "stdout",
     "output_type": "stream",
     "text": [
      "                                     00060 00060_cd  00065 00065_cd\n",
      "site_no  datetime                                                  \n",
      "12193400 2021-01-01 08:00:00+00:00  1680.0        A   3.19        A\n",
      "         2021-01-01 08:15:00+00:00  1560.0        A   3.10        A\n",
      "         2021-01-01 08:30:00+00:00  1430.0        A   2.99        A\n",
      "         2021-01-01 08:45:00+00:00  1410.0        A   2.98        A\n",
      "         2021-01-01 09:00:00+00:00  1410.0        A   2.98        A\n",
      "         2021-01-01 09:15:00+00:00  1430.0        A   2.99        A\n",
      "         2021-01-01 09:30:00+00:00  1430.0        A   2.99        A\n",
      "         2021-01-01 09:45:00+00:00  1430.0        A   2.99        A\n",
      "         2021-01-01 10:00:00+00:00  1430.0        A   2.99        A\n",
      "         2021-01-01 10:15:00+00:00  1430.0        A   2.99        A\n"
     ]
    },
    {
     "data": {
      "text/plain": [
       "MultiIndex([('12193400', '2021-01-01 08:00:00+00:00'),\n",
       "            ('12193400', '2021-01-01 08:15:00+00:00'),\n",
       "            ('12193400', '2021-01-01 08:30:00+00:00'),\n",
       "            ('12193400', '2021-01-01 08:45:00+00:00'),\n",
       "            ('12193400', '2021-01-01 09:00:00+00:00'),\n",
       "            ('12193400', '2021-01-01 09:15:00+00:00'),\n",
       "            ('12193400', '2021-01-01 09:30:00+00:00'),\n",
       "            ('12193400', '2021-01-01 09:45:00+00:00'),\n",
       "            ('12193400', '2021-01-01 10:00:00+00:00'),\n",
       "            ('12193400', '2021-01-01 10:15:00+00:00'),\n",
       "            ...\n",
       "            ('12194000', '2022-01-02 07:10:00+00:00'),\n",
       "            ('12194000', '2022-01-02 07:15:00+00:00'),\n",
       "            ('12194000', '2022-01-02 07:20:00+00:00'),\n",
       "            ('12194000', '2022-01-02 07:25:00+00:00'),\n",
       "            ('12194000', '2022-01-02 07:30:00+00:00'),\n",
       "            ('12194000', '2022-01-02 07:35:00+00:00'),\n",
       "            ('12194000', '2022-01-02 07:40:00+00:00'),\n",
       "            ('12194000', '2022-01-02 07:45:00+00:00'),\n",
       "            ('12194000', '2022-01-02 07:50:00+00:00'),\n",
       "            ('12194000', '2022-01-02 07:55:00+00:00')],\n",
       "           names=['site_no', 'datetime'], length=139272)"
      ]
     },
     "execution_count": 39,
     "metadata": {},
     "output_type": "execute_result"
    }
   ],
   "source": [
    "headRawData = rawData.head(10)\n",
    "print(headRawData)\n",
    "rawData.index"
   ]
  },
  {
   "cell_type": "code",
   "execution_count": 45,
   "metadata": {},
   "outputs": [
    {
     "name": "stdout",
     "output_type": "stream",
     "text": [
      "<bound method NDFrame.head of                        datetime   00060  00065\n",
      "0     2021-01-01 08:00:00+00:00  1680.0   3.19\n",
      "1     2021-01-01 08:15:00+00:00  1560.0   3.10\n",
      "2     2021-01-01 08:30:00+00:00  1430.0   2.99\n",
      "3     2021-01-01 08:45:00+00:00  1410.0   2.98\n",
      "4     2021-01-01 09:00:00+00:00  1410.0   2.98\n",
      "...                         ...     ...    ...\n",
      "35128 2022-01-02 06:45:00+00:00  1380.0   2.95\n",
      "35129 2022-01-02 07:00:00+00:00  1380.0   2.95\n",
      "35130 2022-01-02 07:15:00+00:00  1380.0   2.95\n",
      "35131 2022-01-02 07:30:00+00:00  1380.0   2.95\n",
      "35132 2022-01-02 07:45:00+00:00  1370.0   2.94\n",
      "\n",
      "[35133 rows x 3 columns]>\n"
     ]
    },
    {
     "data": {
      "text/plain": [
       "RangeIndex(start=0, stop=35133, step=1)"
      ]
     },
     "execution_count": 45,
     "metadata": {},
     "output_type": "execute_result"
    }
   ],
   "source": [
    "tempData = rawData.loc[siteNumbers[0]]  \n",
    "dfData = tempData.reset_index()\n",
    "dfData = dfData.drop(columns=['00060_cd','00065_cd'])\n",
    "print(dfData.head)\n",
    "dfData.index\n"
   ]
  }
 ],
 "metadata": {
  "kernelspec": {
   "display_name": "ssmc",
   "language": "python",
   "name": "python3"
  },
  "language_info": {
   "codemirror_mode": {
    "name": "ipython",
    "version": 3
   },
   "file_extension": ".py",
   "mimetype": "text/x-python",
   "name": "python",
   "nbconvert_exporter": "python",
   "pygments_lexer": "ipython3",
   "version": "3.11.2"
  }
 },
 "nbformat": 4,
 "nbformat_minor": 2
}
