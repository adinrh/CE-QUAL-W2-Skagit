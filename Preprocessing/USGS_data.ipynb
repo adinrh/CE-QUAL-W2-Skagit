{
 "cells": [
  {
   "cell_type": "code",
   "execution_count": null,
   "metadata": {},
   "outputs": [],
   "source": [
    "from dataretrieval import nwis\n",
    "from dataretrieval import wqp\n",
    "\n",
    "# NWM dataset \n",
    "# https://github.com/NOAA-OWP/hydrotools?tab=readme-ov-file\n"
   ]
  },
  {
   "cell_type": "markdown",
   "metadata": {},
   "source": [
    "## Data source, availability, and information\n",
    "From upstream to downsteam\n",
    "### 1. Skagit River Above Miller Creek Near Rockport, WA - 12189700\n",
    "source: https://waterdata.usgs.gov/monitoring-location/12189700/#dataTypeId=continuous-00065-0&period=P7D&showMedian=false\n",
    "Availability: Gage height, feet (from 5/2020)\n",
    "Latitude 48°28'50.80\",   Longitude 121°39'04.70\"   NAD83\n",
    "Skagit County, Washington, Hydrologic Unit 17110005\n",
    "Datum of gage: 199.93 feet above   NAVD88.\n",
    "\n",
    "\n",
    "### 2. Lake Shannon at Concrete, WA - 12193000 \n",
    "source: https://waterdata.usgs.gov/monitoring-location/12193000/#dataTypeId=continuous-62615-0&period=P7D&showMedian=true\n",
    "Availability: Gage height, feet (from 5/2020)\n",
    "Latitude 48°32'53\",   Longitude 121°44'22\"   NAD27\n",
    "Skagit County, Washington, Hydrologic Unit 17110005\n",
    "Drainage area: 297 square miles\n",
    "Datum of gage: 0. feet above   NAVD88.\n",
    "Note: Location inside the dam\n",
    "\n",
    "### 3. Baker River at Henry Thompson BR at Concrete, WA - 12193400 \n",
    "Note: inflow discharge B\n",
    "source: https://waterdata.usgs.gov/monitoring-location/12193400/#dataTypeId=continuous-00065-0&period=P7D&showMedian=false\n",
    "Availability: Gage height, discharge\n",
    "Latitude 48°32'26\",   Longitude 121°44'32\"   NAD27\n",
    "Skagit County, Washington, Hydrologic Unit 17110005\n",
    "Drainage area: 297 square miles\n",
    "Datum of gage: 174.08 feet above   NAVD88.\n",
    "\n",
    "### 4. Skagit River Near Concrete, WA - 12194000\n",
    "Note: inflow discharge C\n",
    "source: https://waterdata.usgs.gov/monitoring-location/12194000/#dataTypeId=continuous-00065-0&period=P7D&showMedian=false\n",
    "Availability: Gage height, discharge\n",
    "Latitude 48°31'28\",   Longitude 121°46'11\"   NAD27\n",
    "Skagit County, Washington, Hydrologic Unit 17110007\n",
    "Drainage area: 2,737 square miles\n",
    "Datum of gage: 133.96 feet above   NAVD88.\n",
    "\n",
    "### 5. Finney Creek at South Skagit Hwy NR Concrete, WA - 12194580\n",
    "source: https://waterdata.usgs.gov/monitoring-location/12194580/#dataTypeId=continuous-00065-0&period=P7D&showMedian=false\n",
    "Availability: Gage height\n",
    "Latitude 48°31'17.91\",   Longitude 121°50'24.04\"   NAD83\n",
    "Skagit County, Washington, Hydrologic Unit 17110007\n",
    "Datum of gage: 133 feet above   NAVD88.\n",
    "k at So\n",
    "### 6. Skagit River Near Sedro Woolley, WA - 12199000\n",
    "source: https://waterdata.usgs.gov/monitoring-location/12199000/#dataTypeId=continuous-00065-0&period=P7D&showMedian=false\n",
    "Availability: Gage height \n",
    "Latitude 48°29'03\",   Longitude 122°14'31\"   NAD27\n",
    "Skagit County, Washington, Hydrologic Unit 17110007\n",
    "Drainage area: 3,015 square miles\n",
    "Datum of gage: 3.81 feet above   NAVD88.\n",
    "\n",
    "### 7. Skagit River Near Mount Vernon, WA - 12200500\n",
    "source: https://waterdata.usgs.gov/monitoring-location/12200500/#dataTypeId=continuous-00065-0&period=P7D&showMedian=false\n",
    "Availability: Gage height, discharge, temperature, turbidity (9/2016 - 10/2017) \n",
    "Latitude 48°26'42\",   Longitude 122°20'03\"   NAD27\n",
    "Skagit County, Washington, Hydrologic Unit 17110007\n",
    "Drainage area: 3,093 square miles\n",
    "Datum of gage: 3.80 feet above   NAVD88.\n",
    "\n",
    "### 8. Sauk River Near Sauk, WA - 12189500\n",
    "Note: Can be used as temperature input\n",
    "source: https://waterdata.usgs.gov/monitoring-location/12189500/#dataTypeId=continuous-00065-0&period=P7D&showMedian=false\n",
    "Availability: Gage height, discharge, temperature, turbidity (9/2011 - 4/2021) \n",
    "Latitude 48°25'29\",   Longitude 121°34'02\"   NAD27\n",
    "Skagit County, Washington, Hydrologic Unit 17110006\n",
    "Drainage area: 714 square miles\n",
    "Datum of gage: 266 feet above   NGVD29.\n",
    "\n",
    "### 8. Skagit River at Marblemount, WA - 12181000\n",
    "Note: Can be used as temperature input\n",
    "source: https://waterdata.usgs.gov/monitoring-location/12181000/#dataTypeId=continuous-00065-85281465&period=P7D&showMedian=false\n",
    "Availability: Gage height, discharge, temperature\n",
    "Latitude 48°32'02\",   Longitude 121°25'43\"   NAD27\n",
    "Skagit County, Washington, Hydrologic Unit 17110005\n",
    "Drainage area: 1,381 square miles\n",
    "Datum of gage: 308.64 feet above   NAVD88."
   ]
  },
  {
   "cell_type": "code",
   "execution_count": 9,
   "metadata": {},
   "outputs": [],
   "source": [
    "\n",
    "\n",
    "\n",
    "siteNumbers = [\"01491000\",\"01645000\"]\n",
    "siteINFO, md = nwis.get_iv(sites=siteNumbers)"
   ]
  },
  {
   "cell_type": "code",
   "execution_count": 10,
   "metadata": {},
   "outputs": [],
   "source": [
    "dailyDataAvailable, md = nwis.get_dv(sites=siteNumbers, statCd=\"00003\")"
   ]
  },
  {
   "cell_type": "code",
   "execution_count": 11,
   "metadata": {},
   "outputs": [],
   "source": [
    "# Choptank River near Greensboro, MD:\n",
    "siteNumber = \"01491000\"\n",
    "parameterCd = \"00060\"  # Discharge\n",
    "startDate = \"2009-10-01\"  \n",
    "endDate = \"2012-09-30\" \n",
    "\n",
    "discharge, md = nwis.get_dv(sites=siteNumber, parameterCd=parameterCd, start=startDate, end=endDate)"
   ]
  },
  {
   "cell_type": "code",
   "execution_count": 12,
   "metadata": {},
   "outputs": [],
   "source": [
    "siteNumber = \"01491000\"\n",
    "parameterCd = [\"00010\",\"00060\"]  # Temperature and discharge\n",
    "statCd = [\"00001\",\"00003\"]  # Mean and maximum\n",
    "startDate = \"2012-01-01\"\n",
    "endDate = \"2012-05-01\"\n",
    "\n",
    "temperatureAndFlow, md = nwis.get_dv(sites=siteNumber, parameterCd=parameterCd,\n",
    "                                     start=startDate, end=endDate, statCd=statCd)"
   ]
  },
  {
   "cell_type": "code",
   "execution_count": 13,
   "metadata": {},
   "outputs": [],
   "source": [
    "parameterCd = \"00060\"  # Discharge\n",
    "startDate = \"2012-05-12\" \n",
    "endDate = \"2012-05-13\" \n",
    "dischargeUnit, md = nwis.get_iv(sites=siteNumber, parameterCd=parameterCd,\n",
    "                            start=startDate, end=endDate)"
   ]
  },
  {
   "cell_type": "code",
   "execution_count": 14,
   "metadata": {},
   "outputs": [
    {
     "name": "stderr",
     "output_type": "stream",
     "text": [
      "/opt/conda/envs/ssmc/lib/python3.11/site-packages/dataretrieval/nwis.py:193: UserWarning: WARNING: Starting in March 2024, the NWIS qw data endpoint is retiring and no longer receives updates. For more information, refer to https://waterdata.usgs.gov.nwis/qwdata and https://doi-usgs.github.io/dataRetrieval/articles/Status.html or email CompTools@usgs.gov.\n",
      "  warnings.warn(\n"
     ]
    },
    {
     "ename": "KeyError",
     "evalue": "'sample_start_time_datum_cd'",
     "output_type": "error",
     "traceback": [
      "\u001b[31m---------------------------------------------------------------------------\u001b[39m",
      "\u001b[31mKeyError\u001b[39m                                  Traceback (most recent call last)",
      "\u001b[36mFile \u001b[39m\u001b[32m/opt/conda/envs/ssmc/lib/python3.11/site-packages/pandas/core/indexes/base.py:3805\u001b[39m, in \u001b[36mIndex.get_loc\u001b[39m\u001b[34m(self, key)\u001b[39m\n\u001b[32m   3804\u001b[39m \u001b[38;5;28;01mtry\u001b[39;00m:\n\u001b[32m-> \u001b[39m\u001b[32m3805\u001b[39m     \u001b[38;5;28;01mreturn\u001b[39;00m \u001b[38;5;28;43mself\u001b[39;49m\u001b[43m.\u001b[49m\u001b[43m_engine\u001b[49m\u001b[43m.\u001b[49m\u001b[43mget_loc\u001b[49m\u001b[43m(\u001b[49m\u001b[43mcasted_key\u001b[49m\u001b[43m)\u001b[49m\n\u001b[32m   3806\u001b[39m \u001b[38;5;28;01mexcept\u001b[39;00m \u001b[38;5;167;01mKeyError\u001b[39;00m \u001b[38;5;28;01mas\u001b[39;00m err:\n",
      "\u001b[36mFile \u001b[39m\u001b[32mindex.pyx:167\u001b[39m, in \u001b[36mpandas._libs.index.IndexEngine.get_loc\u001b[39m\u001b[34m()\u001b[39m\n",
      "\u001b[36mFile \u001b[39m\u001b[32mindex.pyx:196\u001b[39m, in \u001b[36mpandas._libs.index.IndexEngine.get_loc\u001b[39m\u001b[34m()\u001b[39m\n",
      "\u001b[36mFile \u001b[39m\u001b[32mpandas/_libs/hashtable_class_helper.pxi:7081\u001b[39m, in \u001b[36mpandas._libs.hashtable.PyObjectHashTable.get_item\u001b[39m\u001b[34m()\u001b[39m\n",
      "\u001b[36mFile \u001b[39m\u001b[32mpandas/_libs/hashtable_class_helper.pxi:7089\u001b[39m, in \u001b[36mpandas._libs.hashtable.PyObjectHashTable.get_item\u001b[39m\u001b[34m()\u001b[39m\n",
      "\u001b[31mKeyError\u001b[39m: 'sample_start_time_datum_cd'",
      "\nThe above exception was the direct cause of the following exception:\n",
      "\u001b[31mKeyError\u001b[39m                                  Traceback (most recent call last)",
      "\u001b[36mCell\u001b[39m\u001b[36m \u001b[39m\u001b[32mIn[14]\u001b[39m\u001b[32m, line 5\u001b[39m\n\u001b[32m      3\u001b[39m startDate = \u001b[33m\"\u001b[39m\u001b[33m1985-10-01\u001b[39m\u001b[33m\"\u001b[39m\n\u001b[32m      4\u001b[39m endDate = \u001b[33m\"\u001b[39m\u001b[33m2012-09-30\u001b[39m\u001b[33m\"\u001b[39m\n\u001b[32m----> \u001b[39m\u001b[32m5\u001b[39m dfLong, md = \u001b[43mnwis\u001b[49m\u001b[43m.\u001b[49m\u001b[43mget_qwdata\u001b[49m\u001b[43m(\u001b[49m\u001b[43msites\u001b[49m\u001b[43m=\u001b[49m\u001b[43msiteNumber\u001b[49m\u001b[43m,\u001b[49m\u001b[43m \u001b[49m\u001b[43mparameterCd\u001b[49m\u001b[43m=\u001b[49m\u001b[43mparameterCd\u001b[49m\u001b[43m,\u001b[49m\n\u001b[32m      6\u001b[39m \u001b[43m                             \u001b[49m\u001b[43mstart\u001b[49m\u001b[43m=\u001b[49m\u001b[43mstartDate\u001b[49m\u001b[43m,\u001b[49m\u001b[43m \u001b[49m\u001b[43mend\u001b[49m\u001b[43m=\u001b[49m\u001b[43mendDate\u001b[49m\u001b[43m)\u001b[49m\n",
      "\u001b[36mFile \u001b[39m\u001b[32m/opt/conda/envs/ssmc/lib/python3.11/site-packages/dataretrieval/nwis.py:254\u001b[39m, in \u001b[36mget_qwdata\u001b[39m\u001b[34m(sites, start, end, multi_index, wide_format, datetime_index, ssl_check, **kwargs)\u001b[39m\n\u001b[32m    251\u001b[39m df = _read_rdb(response.text)\n\u001b[32m    253\u001b[39m \u001b[38;5;28;01mif\u001b[39;00m datetime_index \u001b[38;5;129;01mis\u001b[39;00m \u001b[38;5;28;01mTrue\u001b[39;00m:\n\u001b[32m--> \u001b[39m\u001b[32m254\u001b[39m     df = \u001b[43mformat_datetime\u001b[49m\u001b[43m(\u001b[49m\u001b[43mdf\u001b[49m\u001b[43m,\u001b[49m\u001b[43m \u001b[49m\u001b[33;43m\"\u001b[39;49m\u001b[33;43msample_dt\u001b[39;49m\u001b[33;43m\"\u001b[39;49m\u001b[43m,\u001b[49m\u001b[43m \u001b[49m\u001b[33;43m\"\u001b[39;49m\u001b[33;43msample_tm\u001b[39;49m\u001b[33;43m\"\u001b[39;49m\u001b[43m,\u001b[49m\u001b[43m \u001b[49m\u001b[33;43m\"\u001b[39;49m\u001b[33;43msample_start_time_datum_cd\u001b[39;49m\u001b[33;43m\"\u001b[39;49m\u001b[43m)\u001b[49m\n\u001b[32m    256\u001b[39m \u001b[38;5;28;01mreturn\u001b[39;00m format_response(df, **kwargs), NWIS_Metadata(response, **kwargs)\n",
      "\u001b[36mFile \u001b[39m\u001b[32m/opt/conda/envs/ssmc/lib/python3.11/site-packages/dataretrieval/utils.py:79\u001b[39m, in \u001b[36mformat_datetime\u001b[39m\u001b[34m(df, date_field, time_field, tz_field)\u001b[39m\n\u001b[32m     56\u001b[39m \u001b[38;5;250m\u001b[39m\u001b[33;03m\"\"\"Creates a datetime field from separate date, time, and\u001b[39;00m\n\u001b[32m     57\u001b[39m \u001b[33;03mtime zone fields.\u001b[39;00m\n\u001b[32m     58\u001b[39m \n\u001b[32m   (...)\u001b[39m\u001b[32m     76\u001b[39m \n\u001b[32m     77\u001b[39m \u001b[33;03m\"\"\"\u001b[39;00m\n\u001b[32m     78\u001b[39m \u001b[38;5;66;03m# create a datetime index from the columns in qwdata response\u001b[39;00m\n\u001b[32m---> \u001b[39m\u001b[32m79\u001b[39m df[tz_field] = \u001b[43mdf\u001b[49m\u001b[43m[\u001b[49m\u001b[43mtz_field\u001b[49m\u001b[43m]\u001b[49m.map(tz)\n\u001b[32m     81\u001b[39m df[\u001b[33m\"\u001b[39m\u001b[33mdatetime\u001b[39m\u001b[33m\"\u001b[39m] = pd.to_datetime(\n\u001b[32m     82\u001b[39m     df[date_field] + \u001b[33m\"\u001b[39m\u001b[33m \u001b[39m\u001b[33m\"\u001b[39m + df[time_field] + \u001b[33m\"\u001b[39m\u001b[33m \u001b[39m\u001b[33m\"\u001b[39m + df[tz_field],\n\u001b[32m     83\u001b[39m     \u001b[38;5;28mformat\u001b[39m=\u001b[33m\"\u001b[39m\u001b[33mISO8601\u001b[39m\u001b[33m\"\u001b[39m,\n\u001b[32m     84\u001b[39m     utc=\u001b[38;5;28;01mTrue\u001b[39;00m,\n\u001b[32m     85\u001b[39m )\n\u001b[32m     87\u001b[39m \u001b[38;5;66;03m# if there are any incomplete dates, warn the user\u001b[39;00m\n",
      "\u001b[36mFile \u001b[39m\u001b[32m/opt/conda/envs/ssmc/lib/python3.11/site-packages/pandas/core/frame.py:4102\u001b[39m, in \u001b[36mDataFrame.__getitem__\u001b[39m\u001b[34m(self, key)\u001b[39m\n\u001b[32m   4100\u001b[39m \u001b[38;5;28;01mif\u001b[39;00m \u001b[38;5;28mself\u001b[39m.columns.nlevels > \u001b[32m1\u001b[39m:\n\u001b[32m   4101\u001b[39m     \u001b[38;5;28;01mreturn\u001b[39;00m \u001b[38;5;28mself\u001b[39m._getitem_multilevel(key)\n\u001b[32m-> \u001b[39m\u001b[32m4102\u001b[39m indexer = \u001b[38;5;28;43mself\u001b[39;49m\u001b[43m.\u001b[49m\u001b[43mcolumns\u001b[49m\u001b[43m.\u001b[49m\u001b[43mget_loc\u001b[49m\u001b[43m(\u001b[49m\u001b[43mkey\u001b[49m\u001b[43m)\u001b[49m\n\u001b[32m   4103\u001b[39m \u001b[38;5;28;01mif\u001b[39;00m is_integer(indexer):\n\u001b[32m   4104\u001b[39m     indexer = [indexer]\n",
      "\u001b[36mFile \u001b[39m\u001b[32m/opt/conda/envs/ssmc/lib/python3.11/site-packages/pandas/core/indexes/base.py:3812\u001b[39m, in \u001b[36mIndex.get_loc\u001b[39m\u001b[34m(self, key)\u001b[39m\n\u001b[32m   3807\u001b[39m     \u001b[38;5;28;01mif\u001b[39;00m \u001b[38;5;28misinstance\u001b[39m(casted_key, \u001b[38;5;28mslice\u001b[39m) \u001b[38;5;129;01mor\u001b[39;00m (\n\u001b[32m   3808\u001b[39m         \u001b[38;5;28misinstance\u001b[39m(casted_key, abc.Iterable)\n\u001b[32m   3809\u001b[39m         \u001b[38;5;129;01mand\u001b[39;00m \u001b[38;5;28many\u001b[39m(\u001b[38;5;28misinstance\u001b[39m(x, \u001b[38;5;28mslice\u001b[39m) \u001b[38;5;28;01mfor\u001b[39;00m x \u001b[38;5;129;01min\u001b[39;00m casted_key)\n\u001b[32m   3810\u001b[39m     ):\n\u001b[32m   3811\u001b[39m         \u001b[38;5;28;01mraise\u001b[39;00m InvalidIndexError(key)\n\u001b[32m-> \u001b[39m\u001b[32m3812\u001b[39m     \u001b[38;5;28;01mraise\u001b[39;00m \u001b[38;5;167;01mKeyError\u001b[39;00m(key) \u001b[38;5;28;01mfrom\u001b[39;00m\u001b[38;5;250m \u001b[39m\u001b[34;01merr\u001b[39;00m\n\u001b[32m   3813\u001b[39m \u001b[38;5;28;01mexcept\u001b[39;00m \u001b[38;5;167;01mTypeError\u001b[39;00m:\n\u001b[32m   3814\u001b[39m     \u001b[38;5;66;03m# If we have a listlike key, _check_indexing_error will raise\u001b[39;00m\n\u001b[32m   3815\u001b[39m     \u001b[38;5;66;03m#  InvalidIndexError. Otherwise we fall through and re-raise\u001b[39;00m\n\u001b[32m   3816\u001b[39m     \u001b[38;5;66;03m#  the TypeError.\u001b[39;00m\n\u001b[32m   3817\u001b[39m     \u001b[38;5;28mself\u001b[39m._check_indexing_error(key)\n",
      "\u001b[31mKeyError\u001b[39m: 'sample_start_time_datum_cd'"
     ]
    }
   ],
   "source": [
    "siteNumber = \"01491000\"\n",
    "parameterCd = [\"00618\",\"71851\"]\n",
    "startDate = \"1985-10-01\"\n",
    "endDate = \"2012-09-30\"\n",
    "dfLong, md = nwis.get_qwdata(sites=siteNumber, parameterCd=parameterCd,\n",
    "                             start=startDate, end=endDate)"
   ]
  },
  {
   "cell_type": "code",
   "execution_count": null,
   "metadata": {},
   "outputs": [],
   "source": [
    "siteNumber = \"434400121275801\"\n",
    "groundWater, md = nwis.get_gwlevels(sites=siteNumber)"
   ]
  },
  {
   "cell_type": "code",
   "execution_count": null,
   "metadata": {},
   "outputs": [],
   "source": [
    "ratings_data, md = nwis.get_ratings(site='01594440', file_type=\"base\")"
   ]
  },
  {
   "cell_type": "code",
   "execution_count": null,
   "metadata": {},
   "outputs": [],
   "source": [
    "siteNumber = '01594440'\n",
    "surface_data, md = nwis.get_discharge_measurements(sites=siteNumber)"
   ]
  },
  {
   "cell_type": "code",
   "execution_count": null,
   "metadata": {},
   "outputs": [],
   "source": [
    "allegheny, md = nwis.get_water_use(state=\"PA\", counties=\"003\")\n",
    "\n",
    "national, md = nwis.get_water_use()"
   ]
  },
  {
   "cell_type": "code",
   "execution_count": null,
   "metadata": {},
   "outputs": [],
   "source": [
    "discharge_stats, md = nwis.get_stats(sites='02319394', parameterCd=\"00060\", statReportType='annual', statTypeCd='all')"
   ]
  },
  {
   "cell_type": "code",
   "execution_count": null,
   "metadata": {},
   "outputs": [],
   "source": [
    "# specific_cond, md = wqp.get_results(siteid='WIDNR_WQX-10032762',\n",
    "#                           characteristicName = 'Specific conductance',\n",
    "#                           startDateLo='2011-05-01', startDateHi='2011-09-30')"
   ]
  },
  {
   "cell_type": "code",
   "execution_count": null,
   "metadata": {},
   "outputs": [],
   "source": [
    "# dischargeWI, md = nwis.get_dv(stateCd=\"WI\", parameterCd=\"00060\", drainAreaMin=\"50\", statCd=\"00003\")"
   ]
  },
  {
   "cell_type": "code",
   "execution_count": null,
   "metadata": {},
   "outputs": [],
   "source": [
    "# sitesNJ, md = wqp.what_sites(statecode=\"US:34\", characteristicName=\"Chloride\")"
   ]
  },
  {
   "cell_type": "code",
   "execution_count": null,
   "metadata": {},
   "outputs": [],
   "source": [
    "# dataPH, md = wqp.what_sites(statecode=\"US:55\", characteristicName=\"pH\")"
   ]
  },
  {
   "cell_type": "code",
   "execution_count": null,
   "metadata": {},
   "outputs": [],
   "source": [
    "site, md = wqp.what_sites(siteid=\"USGS-01594440\")"
   ]
  },
  {
   "cell_type": "code",
   "execution_count": null,
   "metadata": {},
   "outputs": [],
   "source": [
    "streamType = \"Stream\"\n",
    "sites, md = wqp.what_sites(countycode=\"US:55:025\",siteType=streamType)"
   ]
  }
 ],
 "metadata": {
  "kernelspec": {
   "display_name": "ssmc",
   "language": "python",
   "name": "python3"
  },
  "language_info": {
   "codemirror_mode": {
    "name": "ipython",
    "version": 3
   },
   "file_extension": ".py",
   "mimetype": "text/x-python",
   "name": "python",
   "nbconvert_exporter": "python",
   "pygments_lexer": "ipython3",
   "version": "3.11.2"
  }
 },
 "nbformat": 4,
 "nbformat_minor": 2
}
