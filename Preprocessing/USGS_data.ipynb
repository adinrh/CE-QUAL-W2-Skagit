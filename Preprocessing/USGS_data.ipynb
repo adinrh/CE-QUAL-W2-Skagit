{
 "cells": [
  {
   "cell_type": "code",
   "execution_count": 2,
   "metadata": {},
   "outputs": [],
   "source": [
    "from dataretrieval import nwis\n",
    "from dataretrieval import wqp\n",
    "\n",
    "# NWM dataset \n",
    "# https://github.com/NOAA-OWP/hydrotools?tab=readme-ov-file\n"
   ]
  },
  {
   "cell_type": "markdown",
   "metadata": {},
   "source": [
    "## Data source, availability, and information\n",
    "From upstream to downsteam\n",
    "### 1. Skagit River Above Miller Creek Near Rockport, WA - 12189700\n",
    "source: https://waterdata.usgs.gov/monitoring-location/12189700/#dataTypeId=continuous-00065-0&period=P7D&showMedian=false\n",
    "Availability: Gage height, feet (from 5/2020).\n",
    "Latitude 48°28'50.80\",   Longitude 121°39'04.70\"   NAD83.\n",
    "Skagit County, Washington, Hydrologic Unit 17110005.\n",
    "Datum of gage: 199.93 feet above   NAVD88.\n",
    "\n",
    "\n",
    "### 2. Lake Shannon at Concrete, WA - 12193000 \n",
    "source: https://waterdata.usgs.gov/monitoring-location/12193000/#dataTypeId=continuous-62615-0&period=P7D&showMedian=true\n",
    "Availability: Gage height, feet (from 5/2020)\n",
    "Latitude 48°32'53\",   Longitude 121°44'22\"   NAD27\n",
    "Skagit County, Washington, Hydrologic Unit 17110005\n",
    "Drainage area: 297 square miles\n",
    "Datum of gage: 0. feet above   NAVD88.\n",
    "Note: Location inside the dam\n",
    "\n",
    "### 3. Baker River at Henry Thompson BR at Concrete, WA - 12193400 \n",
    "Note: inflow discharge B\n",
    "source: https://waterdata.usgs.gov/monitoring-location/12193400/#dataTypeId=continuous-00065-0&period=P7D&showMedian=false\n",
    "Availability: Gage height, discharge\n",
    "Latitude 48°32'26\",   Longitude 121°44'32\"   NAD27\n",
    "Skagit County, Washington, Hydrologic Unit 17110005\n",
    "Drainage area: 297 square miles\n",
    "Datum of gage: 174.08 feet above   NAVD88.\n",
    "\n",
    "### 4. Skagit River Near Concrete, WA - 12194000\n",
    "Note: inflow discharge C\n",
    "source: https://waterdata.usgs.gov/monitoring-location/12194000/#dataTypeId=continuous-00065-0&period=P7D&showMedian=false\n",
    "Availability: Gage height, discharge\n",
    "Latitude 48°31'28\",   Longitude 121°46'11\"   NAD27\n",
    "Skagit County, Washington, Hydrologic Unit 17110007\n",
    "Drainage area: 2,737 square miles\n",
    "Datum of gage: 133.96 feet above   NAVD88.\n",
    "\n",
    "### 5. Finney Creek at South Skagit Hwy NR Concrete, WA - 12194580\n",
    "source: https://waterdata.usgs.gov/monitoring-location/12194580/#dataTypeId=continuous-00065-0&period=P7D&showMedian=false\n",
    "Availability: Gage height\n",
    "Latitude 48°31'17.91\",   Longitude 121°50'24.04\"   NAD83\n",
    "Skagit County, Washington, Hydrologic Unit 17110007\n",
    "Datum of gage: 133 feet above   NAVD88.\n",
    "k at So\n",
    "### 6. Skagit River Near Sedro Woolley, WA - 12199000\n",
    "source: https://waterdata.usgs.gov/monitoring-location/12199000/#dataTypeId=continuous-00065-0&period=P7D&showMedian=false\n",
    "Availability: Gage height \n",
    "Latitude 48°29'03\",   Longitude 122°14'31\"   NAD27\n",
    "Skagit County, Washington, Hydrologic Unit 17110007\n",
    "Drainage area: 3,015 square miles\n",
    "Datum of gage: 3.81 feet above   NAVD88.\n",
    "\n",
    "### 7. Skagit River Near Mount Vernon, WA - 12200500\n",
    "source: https://waterdata.usgs.gov/monitoring-location/12200500/#dataTypeId=continuous-00065-0&period=P7D&showMedian=false\n",
    "Availability: Gage height, discharge, temperature, turbidity (9/2016 - 10/2017) \n",
    "Latitude 48°26'42\",   Longitude 122°20'03\"   NAD27\n",
    "Skagit County, Washington, Hydrologic Unit 17110007\n",
    "Drainage area: 3,093 square miles\n",
    "Datum of gage: 3.80 feet above   NAVD88.\n",
    "\n",
    "### 8. Sauk River Near Sauk, WA - 12189500\n",
    "Note: Can be used as temperature input\n",
    "source: https://waterdata.usgs.gov/monitoring-location/12189500/#dataTypeId=continuous-00065-0&period=P7D&showMedian=false\n",
    "Availability: Gage height, discharge, temperature, turbidity (9/2011 - 4/2021) \n",
    "Latitude 48°25'29\",   Longitude 121°34'02\"   NAD27\n",
    "Skagit County, Washington, Hydrologic Unit 17110006\n",
    "Drainage area: 714 square miles\n",
    "Datum of gage: 266 feet above   NGVD29.\n",
    "\n",
    "### 8. Skagit River at Marblemount, WA - 12181000\n",
    "Note: Can be used as temperature input\n",
    "source: https://waterdata.usgs.gov/monitoring-location/12181000/#dataTypeId=continuous-00065-85281465&period=P7D&showMedian=false\n",
    "Availability: Gage height, discharge, temperature\n",
    "Latitude 48°32'02\",   Longitude 121°25'43\"   NAD27\n",
    "Skagit County, Washington, Hydrologic Unit 17110005\n",
    "Drainage area: 1,381 square miles\n",
    "Datum of gage: 308.64 feet above   NAVD88."
   ]
  },
  {
   "cell_type": "code",
   "execution_count": 5,
   "metadata": {},
   "outputs": [
    {
     "ename": "ValueError",
     "evalue": "Bad Request, check that your parameters are correct. URL: https://waterservices.usgs.gov/nwis/iv?format=json&parameterCd=00065%2C00061&startDT=2021-01-01&endDT=2022-01-01&sites=12193400%2C2194000",
     "output_type": "error",
     "traceback": [
      "\u001b[31m---------------------------------------------------------------------------\u001b[39m",
      "\u001b[31mValueError\u001b[39m                                Traceback (most recent call last)",
      "\u001b[36mCell\u001b[39m\u001b[36m \u001b[39m\u001b[32mIn[5]\u001b[39m\u001b[32m, line 10\u001b[39m\n\u001b[32m      5\u001b[39m endDate = \u001b[33m\"\u001b[39m\u001b[33m2022-01-01\u001b[39m\u001b[33m\"\u001b[39m\n\u001b[32m      7\u001b[39m \u001b[38;5;66;03m#rawData, md = nwis.get_dv(sites=siteNumbers, parameterCd=parameterCds,\u001b[39;00m\n\u001b[32m      8\u001b[39m \u001b[38;5;66;03m#                                     start=startDate, end=endDate)\u001b[39;00m\n\u001b[32m---> \u001b[39m\u001b[32m10\u001b[39m rawData, md = \u001b[43mnwis\u001b[49m\u001b[43m.\u001b[49m\u001b[43mget_iv\u001b[49m\u001b[43m(\u001b[49m\u001b[43msites\u001b[49m\u001b[43m=\u001b[49m\u001b[43msiteNumbers\u001b[49m\u001b[43m,\u001b[49m\u001b[43m \u001b[49m\u001b[43mparameterCd\u001b[49m\u001b[43m=\u001b[49m\u001b[43mparameterCds\u001b[49m\u001b[43m,\u001b[49m\n\u001b[32m     11\u001b[39m \u001b[43m                            \u001b[49m\u001b[43mstart\u001b[49m\u001b[43m=\u001b[49m\u001b[43mstartDate\u001b[49m\u001b[43m,\u001b[49m\u001b[43m \u001b[49m\u001b[43mend\u001b[49m\u001b[43m=\u001b[49m\u001b[43mendDate\u001b[49m\u001b[43m)\u001b[49m\n",
      "\u001b[36mFile \u001b[39m\u001b[32m/opt/conda/envs/ssmc/lib/python3.11/site-packages/dataretrieval/nwis.py:883\u001b[39m, in \u001b[36mget_iv\u001b[39m\u001b[34m(sites, start, end, multi_index, ssl_check, **kwargs)\u001b[39m\n\u001b[32m    880\u001b[39m kwargs[\u001b[33m\"\u001b[39m\u001b[33msites\u001b[39m\u001b[33m\"\u001b[39m] = kwargs.pop(\u001b[33m\"\u001b[39m\u001b[33msites\u001b[39m\u001b[33m\"\u001b[39m, sites)\n\u001b[32m    881\u001b[39m kwargs[\u001b[33m\"\u001b[39m\u001b[33mmulti_index\u001b[39m\u001b[33m\"\u001b[39m] = multi_index\n\u001b[32m--> \u001b[39m\u001b[32m883\u001b[39m response = \u001b[43mquery_waterservices\u001b[49m\u001b[43m(\u001b[49m\n\u001b[32m    884\u001b[39m \u001b[43m    \u001b[49m\u001b[43mservice\u001b[49m\u001b[43m=\u001b[49m\u001b[33;43m\"\u001b[39;49m\u001b[33;43miv\u001b[39;49m\u001b[33;43m\"\u001b[39;49m\u001b[43m,\u001b[49m\u001b[43m \u001b[49m\u001b[38;5;28;43mformat\u001b[39;49m\u001b[43m=\u001b[49m\u001b[33;43m\"\u001b[39;49m\u001b[33;43mjson\u001b[39;49m\u001b[33;43m\"\u001b[39;49m\u001b[43m,\u001b[49m\u001b[43m \u001b[49m\u001b[43mssl_check\u001b[49m\u001b[43m=\u001b[49m\u001b[43mssl_check\u001b[49m\u001b[43m,\u001b[49m\u001b[43m \u001b[49m\u001b[43m*\u001b[49m\u001b[43m*\u001b[49m\u001b[43mkwargs\u001b[49m\n\u001b[32m    885\u001b[39m \u001b[43m\u001b[49m\u001b[43m)\u001b[49m\n\u001b[32m    887\u001b[39m df = _read_json(response.json())\n\u001b[32m    888\u001b[39m \u001b[38;5;28;01mreturn\u001b[39;00m format_response(df, **kwargs), NWIS_Metadata(response, **kwargs)\n",
      "\u001b[36mFile \u001b[39m\u001b[32m/opt/conda/envs/ssmc/lib/python3.11/site-packages/dataretrieval/nwis.py:633\u001b[39m, in \u001b[36mquery_waterservices\u001b[39m\u001b[34m(service, ssl_check, **kwargs)\u001b[39m\n\u001b[32m    629\u001b[39m     kwargs[\u001b[33m\"\u001b[39m\u001b[33mformat\u001b[39m\u001b[33m\"\u001b[39m] = \u001b[33m\"\u001b[39m\u001b[33mrdb\u001b[39m\u001b[33m\"\u001b[39m\n\u001b[32m    631\u001b[39m url = WATERSERVICE_URL + service\n\u001b[32m--> \u001b[39m\u001b[32m633\u001b[39m \u001b[38;5;28;01mreturn\u001b[39;00m \u001b[43mquery\u001b[49m\u001b[43m(\u001b[49m\u001b[43murl\u001b[49m\u001b[43m,\u001b[49m\u001b[43m \u001b[49m\u001b[43mpayload\u001b[49m\u001b[43m=\u001b[49m\u001b[43mkwargs\u001b[49m\u001b[43m,\u001b[49m\u001b[43m \u001b[49m\u001b[43mssl_check\u001b[49m\u001b[43m=\u001b[49m\u001b[43mssl_check\u001b[49m\u001b[43m)\u001b[49m\n",
      "\u001b[36mFile \u001b[39m\u001b[32m/opt/conda/envs/ssmc/lib/python3.11/site-packages/dataretrieval/utils.py:193\u001b[39m, in \u001b[36mquery\u001b[39m\u001b[34m(url, payload, delimiter, ssl_check)\u001b[39m\n\u001b[32m    190\u001b[39m response = requests.get(url, params=payload, headers=user_agent, verify=ssl_check)\n\u001b[32m    192\u001b[39m \u001b[38;5;28;01mif\u001b[39;00m response.status_code == \u001b[32m400\u001b[39m:\n\u001b[32m--> \u001b[39m\u001b[32m193\u001b[39m     \u001b[38;5;28;01mraise\u001b[39;00m \u001b[38;5;167;01mValueError\u001b[39;00m(\n\u001b[32m    194\u001b[39m         \u001b[33mf\u001b[39m\u001b[33m\"\u001b[39m\u001b[33mBad Request, check that your parameters are correct. URL: \u001b[39m\u001b[38;5;132;01m{\u001b[39;00mresponse.url\u001b[38;5;132;01m}\u001b[39;00m\u001b[33m\"\u001b[39m\n\u001b[32m    195\u001b[39m     )\n\u001b[32m    196\u001b[39m \u001b[38;5;28;01melif\u001b[39;00m response.status_code == \u001b[32m404\u001b[39m:\n\u001b[32m    197\u001b[39m     \u001b[38;5;28;01mraise\u001b[39;00m \u001b[38;5;167;01mValueError\u001b[39;00m(\n\u001b[32m    198\u001b[39m         \u001b[33m\"\u001b[39m\u001b[33mPage Not Found Error. May be the result of an empty query. \u001b[39m\u001b[33m\"\u001b[39m\n\u001b[32m    199\u001b[39m         + \u001b[33mf\u001b[39m\u001b[33m\"\u001b[39m\u001b[33mURL: \u001b[39m\u001b[38;5;132;01m{\u001b[39;00mresponse.url\u001b[38;5;132;01m}\u001b[39;00m\u001b[33m\"\u001b[39m\n\u001b[32m    200\u001b[39m     )\n",
      "\u001b[31mValueError\u001b[39m: Bad Request, check that your parameters are correct. URL: https://waterservices.usgs.gov/nwis/iv?format=json&parameterCd=00065%2C00061&startDT=2021-01-01&endDT=2022-01-01&sites=12193400%2C2194000"
     ]
    }
   ],
   "source": [
    "siteNumbers = [\"12193400\", \"2194000\"]\n",
    "parameterCds = [\"00065\",\"00061\"]  # wse and discharge\n",
    "#statCd = [\"00001\",\"00003\"]  # Mean and maximum\n",
    "startDate = \"2021-01-01\"\n",
    "endDate = \"2022-01-01\"\n",
    "\n",
    "#rawData, md = nwis.get_dv(sites=siteNumbers, parameterCd=parameterCds,\n",
    "#                                     start=startDate, end=endDate)\n",
    "\n",
    "rawData, md = nwis.get_iv(sites=siteNumbers, parameterCd=parameterCds,\n",
    "                            start=startDate, end=endDate)"
   ]
  }
 ],
 "metadata": {
  "kernelspec": {
   "display_name": "ssmc",
   "language": "python",
   "name": "python3"
  },
  "language_info": {
   "codemirror_mode": {
    "name": "ipython",
    "version": 3
   },
   "file_extension": ".py",
   "mimetype": "text/x-python",
   "name": "python",
   "nbconvert_exporter": "python",
   "pygments_lexer": "ipython3",
   "version": "3.11.2"
  }
 },
 "nbformat": 4,
 "nbformat_minor": 2
}
