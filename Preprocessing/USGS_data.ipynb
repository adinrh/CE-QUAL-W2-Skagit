{
 "cells": [
  {
   "cell_type": "code",
   "execution_count": 5,
   "metadata": {},
   "outputs": [
    {
     "name": "stdout",
     "output_type": "stream",
     "text": [
      "Requirement already satisfied: argcomplete==2.0.0 in /usr/lib/python3/dist-packages (from -r requirements.txt (line 1)) (2.0.0)\n",
      "Requirement already satisfied: asttokens==3.0.0 in /home/vscode/.local/lib/python3.11/site-packages (from -r requirements.txt (line 2)) (3.0.0)\n",
      "Requirement already satisfied: certifi==2025.1.31 in /home/vscode/.local/lib/python3.11/site-packages (from -r requirements.txt (line 3)) (2025.1.31)\n",
      "Requirement already satisfied: charset-normalizer==3.4.1 in /home/vscode/.local/lib/python3.11/site-packages (from -r requirements.txt (line 4)) (3.4.1)\n",
      "Requirement already satisfied: click==8.1.3 in /usr/lib/python3/dist-packages (from -r requirements.txt (line 5)) (8.1.3)\n",
      "Requirement already satisfied: colorama==0.4.6 in /usr/lib/python3/dist-packages (from -r requirements.txt (line 6)) (0.4.6)\n",
      "Requirement already satisfied: comm==0.2.2 in /home/vscode/.local/lib/python3.11/site-packages (from -r requirements.txt (line 7)) (0.2.2)\n",
      "Requirement already satisfied: dataretrieval==1.0.11 in /home/vscode/.local/lib/python3.11/site-packages (from -r requirements.txt (line 8)) (1.0.11)\n",
      "Requirement already satisfied: debugpy==1.8.13 in /home/vscode/.local/lib/python3.11/site-packages (from -r requirements.txt (line 9)) (1.8.13)\n",
      "Requirement already satisfied: decorator==5.2.1 in /home/vscode/.local/lib/python3.11/site-packages (from -r requirements.txt (line 10)) (5.2.1)\n",
      "Requirement already satisfied: executing==2.2.0 in /home/vscode/.local/lib/python3.11/site-packages (from -r requirements.txt (line 11)) (2.2.0)\n",
      "Requirement already satisfied: idna==3.10 in /home/vscode/.local/lib/python3.11/site-packages (from -r requirements.txt (line 12)) (3.10)\n",
      "Requirement already satisfied: ipykernel==6.29.5 in /home/vscode/.local/lib/python3.11/site-packages (from -r requirements.txt (line 13)) (6.29.5)\n",
      "Requirement already satisfied: ipython==9.0.2 in /home/vscode/.local/lib/python3.11/site-packages (from -r requirements.txt (line 14)) (9.0.2)\n",
      "Requirement already satisfied: ipython_pygments_lexers==1.1.1 in /home/vscode/.local/lib/python3.11/site-packages (from -r requirements.txt (line 15)) (1.1.1)\n",
      "Requirement already satisfied: jedi==0.19.2 in /home/vscode/.local/lib/python3.11/site-packages (from -r requirements.txt (line 16)) (0.19.2)\n",
      "Requirement already satisfied: jupyter_client==8.6.3 in /home/vscode/.local/lib/python3.11/site-packages (from -r requirements.txt (line 17)) (8.6.3)\n",
      "Requirement already satisfied: jupyter_core==5.7.2 in /home/vscode/.local/lib/python3.11/site-packages (from -r requirements.txt (line 18)) (5.7.2)\n",
      "Requirement already satisfied: matplotlib-inline==0.1.7 in /home/vscode/.local/lib/python3.11/site-packages (from -r requirements.txt (line 19)) (0.1.7)\n",
      "Requirement already satisfied: mercurial==6.3.2 in /usr/lib/python3/dist-packages (from -r requirements.txt (line 20)) (6.3.2)\n",
      "Requirement already satisfied: nest-asyncio==1.6.0 in /home/vscode/.local/lib/python3.11/site-packages (from -r requirements.txt (line 21)) (1.6.0)\n",
      "Requirement already satisfied: numpy==2.2.4 in /home/vscode/.local/lib/python3.11/site-packages (from -r requirements.txt (line 22)) (2.2.4)\n",
      "Requirement already satisfied: packaging==24.2 in /home/vscode/.local/lib/python3.11/site-packages (from -r requirements.txt (line 23)) (24.2)\n",
      "Requirement already satisfied: panda==0.3.1 in /home/vscode/.local/lib/python3.11/site-packages (from -r requirements.txt (line 24)) (0.3.1)\n",
      "Requirement already satisfied: pandas==2.2.3 in /home/vscode/.local/lib/python3.11/site-packages (from -r requirements.txt (line 25)) (2.2.3)\n",
      "Requirement already satisfied: parso==0.8.4 in /home/vscode/.local/lib/python3.11/site-packages (from -r requirements.txt (line 26)) (0.8.4)\n",
      "Requirement already satisfied: pexpect==4.9.0 in /home/vscode/.local/lib/python3.11/site-packages (from -r requirements.txt (line 27)) (4.9.0)\n",
      "Requirement already satisfied: pipx==1.1.0 in /usr/lib/python3/dist-packages (from -r requirements.txt (line 28)) (1.1.0)\n",
      "Requirement already satisfied: platformdirs==4.3.7 in /home/vscode/.local/lib/python3.11/site-packages (from -r requirements.txt (line 29)) (4.3.7)\n",
      "Requirement already satisfied: prompt_toolkit==3.0.50 in /home/vscode/.local/lib/python3.11/site-packages (from -r requirements.txt (line 30)) (3.0.50)\n",
      "Requirement already satisfied: psutil==7.0.0 in /home/vscode/.local/lib/python3.11/site-packages (from -r requirements.txt (line 31)) (7.0.0)\n",
      "Requirement already satisfied: ptyprocess==0.7.0 in /home/vscode/.local/lib/python3.11/site-packages (from -r requirements.txt (line 32)) (0.7.0)\n",
      "Requirement already satisfied: pure_eval==0.2.3 in /home/vscode/.local/lib/python3.11/site-packages (from -r requirements.txt (line 33)) (0.2.3)\n",
      "Requirement already satisfied: Pygments==2.19.1 in /home/vscode/.local/lib/python3.11/site-packages (from -r requirements.txt (line 34)) (2.19.1)\n",
      "Requirement already satisfied: python-dateutil==2.9.0.post0 in /home/vscode/.local/lib/python3.11/site-packages (from -r requirements.txt (line 35)) (2.9.0.post0)\n",
      "Requirement already satisfied: pytz==2025.2 in /home/vscode/.local/lib/python3.11/site-packages (from -r requirements.txt (line 36)) (2025.2)\n",
      "Requirement already satisfied: pyzmq==26.3.0 in /home/vscode/.local/lib/python3.11/site-packages (from -r requirements.txt (line 37)) (26.3.0)\n",
      "Requirement already satisfied: requests==2.32.3 in /home/vscode/.local/lib/python3.11/site-packages (from -r requirements.txt (line 38)) (2.32.3)\n",
      "Requirement already satisfied: six==1.17.0 in /home/vscode/.local/lib/python3.11/site-packages (from -r requirements.txt (line 39)) (1.17.0)\n",
      "Requirement already satisfied: stack-data==0.6.3 in /home/vscode/.local/lib/python3.11/site-packages (from -r requirements.txt (line 40)) (0.6.3)\n",
      "Requirement already satisfied: tornado==6.4.2 in /home/vscode/.local/lib/python3.11/site-packages (from -r requirements.txt (line 41)) (6.4.2)\n",
      "Requirement already satisfied: traitlets==5.14.3 in /home/vscode/.local/lib/python3.11/site-packages (from -r requirements.txt (line 42)) (5.14.3)\n",
      "Requirement already satisfied: typing_extensions==4.13.0 in /home/vscode/.local/lib/python3.11/site-packages (from -r requirements.txt (line 43)) (4.13.0)\n",
      "Requirement already satisfied: tzdata==2025.2 in /home/vscode/.local/lib/python3.11/site-packages (from -r requirements.txt (line 44)) (2025.2)\n",
      "Requirement already satisfied: urllib3==2.3.0 in /home/vscode/.local/lib/python3.11/site-packages (from -r requirements.txt (line 45)) (2.3.0)\n",
      "Requirement already satisfied: userpath==1.8.0 in /usr/lib/python3/dist-packages (from -r requirements.txt (line 46)) (1.8.0)\n",
      "Requirement already satisfied: wcwidth==0.2.13 in /home/vscode/.local/lib/python3.11/site-packages (from -r requirements.txt (line 47)) (0.2.13)\n",
      "Requirement already satisfied: setuptools in /usr/lib/python3/dist-packages (from panda==0.3.1->-r requirements.txt (line 24)) (66.1.1)\n",
      "Note: you may need to restart the kernel to use updated packages.\n"
     ]
    }
   ],
   "source": [
    "%pip install --user -r requirements.txt --break-system-packages\n"
   ]
  },
  {
   "cell_type": "code",
   "execution_count": 6,
   "metadata": {},
   "outputs": [],
   "source": [
    "from dataretrieval import nwis\n",
    "from dataretrieval import wqp"
   ]
  },
  {
   "cell_type": "code",
   "execution_count": 7,
   "metadata": {},
   "outputs": [
    {
     "name": "stderr",
     "output_type": "stream",
     "text": [
      "/home/vscode/.local/lib/python3.11/site-packages/dataretrieval/nwis.py:193: UserWarning: WARNING: Starting in March 2024, the NWIS qw data endpoint is retiring and no longer receives updates. For more information, refer to https://waterdata.usgs.gov.nwis/qwdata and https://doi-usgs.github.io/dataRetrieval/articles/Status.html or email CompTools@usgs.gov.\n",
      "  warnings.warn(\n"
     ]
    },
    {
     "ename": "KeyError",
     "evalue": "'sample_start_time_datum_cd'",
     "output_type": "error",
     "traceback": [
      "\u001b[31m---------------------------------------------------------------------------\u001b[39m",
      "\u001b[31mKeyError\u001b[39m                                  Traceback (most recent call last)",
      "\u001b[36mFile \u001b[39m\u001b[32m~/.local/lib/python3.11/site-packages/pandas/core/indexes/base.py:3805\u001b[39m, in \u001b[36mIndex.get_loc\u001b[39m\u001b[34m(self, key)\u001b[39m\n\u001b[32m   3804\u001b[39m \u001b[38;5;28;01mtry\u001b[39;00m:\n\u001b[32m-> \u001b[39m\u001b[32m3805\u001b[39m     \u001b[38;5;28;01mreturn\u001b[39;00m \u001b[38;5;28;43mself\u001b[39;49m\u001b[43m.\u001b[49m\u001b[43m_engine\u001b[49m\u001b[43m.\u001b[49m\u001b[43mget_loc\u001b[49m\u001b[43m(\u001b[49m\u001b[43mcasted_key\u001b[49m\u001b[43m)\u001b[49m\n\u001b[32m   3806\u001b[39m \u001b[38;5;28;01mexcept\u001b[39;00m \u001b[38;5;167;01mKeyError\u001b[39;00m \u001b[38;5;28;01mas\u001b[39;00m err:\n",
      "\u001b[36mFile \u001b[39m\u001b[32mindex.pyx:167\u001b[39m, in \u001b[36mpandas._libs.index.IndexEngine.get_loc\u001b[39m\u001b[34m()\u001b[39m\n",
      "\u001b[36mFile \u001b[39m\u001b[32mindex.pyx:196\u001b[39m, in \u001b[36mpandas._libs.index.IndexEngine.get_loc\u001b[39m\u001b[34m()\u001b[39m\n",
      "\u001b[36mFile \u001b[39m\u001b[32mpandas/_libs/hashtable_class_helper.pxi:7081\u001b[39m, in \u001b[36mpandas._libs.hashtable.PyObjectHashTable.get_item\u001b[39m\u001b[34m()\u001b[39m\n",
      "\u001b[36mFile \u001b[39m\u001b[32mpandas/_libs/hashtable_class_helper.pxi:7089\u001b[39m, in \u001b[36mpandas._libs.hashtable.PyObjectHashTable.get_item\u001b[39m\u001b[34m()\u001b[39m\n",
      "\u001b[31mKeyError\u001b[39m: 'sample_start_time_datum_cd'",
      "\nThe above exception was the direct cause of the following exception:\n",
      "\u001b[31mKeyError\u001b[39m                                  Traceback (most recent call last)",
      "\u001b[36mCell\u001b[39m\u001b[36m \u001b[39m\u001b[32mIn[7]\u001b[39m\u001b[32m, line 11\u001b[39m\n\u001b[32m      9\u001b[39m \u001b[38;5;66;03m# sample data Nitrate:\u001b[39;00m\n\u001b[32m     10\u001b[39m parameterCd = \u001b[33m\"\u001b[39m\u001b[33m00618\u001b[39m\u001b[33m\"\u001b[39m\n\u001b[32m---> \u001b[39m\u001b[32m11\u001b[39m qwData, md = \u001b[43mnwis\u001b[49m\u001b[43m.\u001b[49m\u001b[43mget_qwdata\u001b[49m\u001b[43m(\u001b[49m\u001b[43msites\u001b[49m\u001b[43m=\u001b[49m\u001b[43msiteNumber\u001b[49m\u001b[43m,\u001b[49m\u001b[43m \u001b[49m\u001b[43mparameterCd\u001b[49m\u001b[43m=\u001b[49m\u001b[43mparameterCd\u001b[49m\u001b[43m,\u001b[49m\u001b[43m \u001b[49m\u001b[43mstart\u001b[49m\u001b[43m=\u001b[49m\u001b[33;43m\"\u001b[39;49m\u001b[33;43m1980-01-01\u001b[39;49m\u001b[33;43m\"\u001b[39;49m\u001b[43m,\u001b[49m\u001b[43m \u001b[49m\u001b[43mend\u001b[49m\u001b[43m=\u001b[49m\u001b[33;43m\"\u001b[39;49m\u001b[33;43m2010-01-01\u001b[39;49m\u001b[33;43m\"\u001b[39;49m\u001b[43m)\u001b[49m\n\u001b[32m     13\u001b[39m pCode, md = nwis.get_pmcodes(parameterCd=parameterCd)\n",
      "\u001b[36mFile \u001b[39m\u001b[32m~/.local/lib/python3.11/site-packages/dataretrieval/nwis.py:254\u001b[39m, in \u001b[36mget_qwdata\u001b[39m\u001b[34m(sites, start, end, multi_index, wide_format, datetime_index, ssl_check, **kwargs)\u001b[39m\n\u001b[32m    251\u001b[39m df = _read_rdb(response.text)\n\u001b[32m    253\u001b[39m \u001b[38;5;28;01mif\u001b[39;00m datetime_index \u001b[38;5;129;01mis\u001b[39;00m \u001b[38;5;28;01mTrue\u001b[39;00m:\n\u001b[32m--> \u001b[39m\u001b[32m254\u001b[39m     df = \u001b[43mformat_datetime\u001b[49m\u001b[43m(\u001b[49m\u001b[43mdf\u001b[49m\u001b[43m,\u001b[49m\u001b[43m \u001b[49m\u001b[33;43m\"\u001b[39;49m\u001b[33;43msample_dt\u001b[39;49m\u001b[33;43m\"\u001b[39;49m\u001b[43m,\u001b[49m\u001b[43m \u001b[49m\u001b[33;43m\"\u001b[39;49m\u001b[33;43msample_tm\u001b[39;49m\u001b[33;43m\"\u001b[39;49m\u001b[43m,\u001b[49m\u001b[43m \u001b[49m\u001b[33;43m\"\u001b[39;49m\u001b[33;43msample_start_time_datum_cd\u001b[39;49m\u001b[33;43m\"\u001b[39;49m\u001b[43m)\u001b[49m\n\u001b[32m    256\u001b[39m \u001b[38;5;28;01mreturn\u001b[39;00m format_response(df, **kwargs), NWIS_Metadata(response, **kwargs)\n",
      "\u001b[36mFile \u001b[39m\u001b[32m~/.local/lib/python3.11/site-packages/dataretrieval/utils.py:79\u001b[39m, in \u001b[36mformat_datetime\u001b[39m\u001b[34m(df, date_field, time_field, tz_field)\u001b[39m\n\u001b[32m     56\u001b[39m \u001b[38;5;250m\u001b[39m\u001b[33;03m\"\"\"Creates a datetime field from separate date, time, and\u001b[39;00m\n\u001b[32m     57\u001b[39m \u001b[33;03mtime zone fields.\u001b[39;00m\n\u001b[32m     58\u001b[39m \n\u001b[32m   (...)\u001b[39m\u001b[32m     76\u001b[39m \n\u001b[32m     77\u001b[39m \u001b[33;03m\"\"\"\u001b[39;00m\n\u001b[32m     78\u001b[39m \u001b[38;5;66;03m# create a datetime index from the columns in qwdata response\u001b[39;00m\n\u001b[32m---> \u001b[39m\u001b[32m79\u001b[39m df[tz_field] = \u001b[43mdf\u001b[49m\u001b[43m[\u001b[49m\u001b[43mtz_field\u001b[49m\u001b[43m]\u001b[49m.map(tz)\n\u001b[32m     81\u001b[39m df[\u001b[33m\"\u001b[39m\u001b[33mdatetime\u001b[39m\u001b[33m\"\u001b[39m] = pd.to_datetime(\n\u001b[32m     82\u001b[39m     df[date_field] + \u001b[33m\"\u001b[39m\u001b[33m \u001b[39m\u001b[33m\"\u001b[39m + df[time_field] + \u001b[33m\"\u001b[39m\u001b[33m \u001b[39m\u001b[33m\"\u001b[39m + df[tz_field],\n\u001b[32m     83\u001b[39m     \u001b[38;5;28mformat\u001b[39m=\u001b[33m\"\u001b[39m\u001b[33mISO8601\u001b[39m\u001b[33m\"\u001b[39m,\n\u001b[32m     84\u001b[39m     utc=\u001b[38;5;28;01mTrue\u001b[39;00m,\n\u001b[32m     85\u001b[39m )\n\u001b[32m     87\u001b[39m \u001b[38;5;66;03m# if there are any incomplete dates, warn the user\u001b[39;00m\n",
      "\u001b[36mFile \u001b[39m\u001b[32m~/.local/lib/python3.11/site-packages/pandas/core/frame.py:4102\u001b[39m, in \u001b[36mDataFrame.__getitem__\u001b[39m\u001b[34m(self, key)\u001b[39m\n\u001b[32m   4100\u001b[39m \u001b[38;5;28;01mif\u001b[39;00m \u001b[38;5;28mself\u001b[39m.columns.nlevels > \u001b[32m1\u001b[39m:\n\u001b[32m   4101\u001b[39m     \u001b[38;5;28;01mreturn\u001b[39;00m \u001b[38;5;28mself\u001b[39m._getitem_multilevel(key)\n\u001b[32m-> \u001b[39m\u001b[32m4102\u001b[39m indexer = \u001b[38;5;28;43mself\u001b[39;49m\u001b[43m.\u001b[49m\u001b[43mcolumns\u001b[49m\u001b[43m.\u001b[49m\u001b[43mget_loc\u001b[49m\u001b[43m(\u001b[49m\u001b[43mkey\u001b[49m\u001b[43m)\u001b[49m\n\u001b[32m   4103\u001b[39m \u001b[38;5;28;01mif\u001b[39;00m is_integer(indexer):\n\u001b[32m   4104\u001b[39m     indexer = [indexer]\n",
      "\u001b[36mFile \u001b[39m\u001b[32m~/.local/lib/python3.11/site-packages/pandas/core/indexes/base.py:3812\u001b[39m, in \u001b[36mIndex.get_loc\u001b[39m\u001b[34m(self, key)\u001b[39m\n\u001b[32m   3807\u001b[39m     \u001b[38;5;28;01mif\u001b[39;00m \u001b[38;5;28misinstance\u001b[39m(casted_key, \u001b[38;5;28mslice\u001b[39m) \u001b[38;5;129;01mor\u001b[39;00m (\n\u001b[32m   3808\u001b[39m         \u001b[38;5;28misinstance\u001b[39m(casted_key, abc.Iterable)\n\u001b[32m   3809\u001b[39m         \u001b[38;5;129;01mand\u001b[39;00m \u001b[38;5;28many\u001b[39m(\u001b[38;5;28misinstance\u001b[39m(x, \u001b[38;5;28mslice\u001b[39m) \u001b[38;5;28;01mfor\u001b[39;00m x \u001b[38;5;129;01min\u001b[39;00m casted_key)\n\u001b[32m   3810\u001b[39m     ):\n\u001b[32m   3811\u001b[39m         \u001b[38;5;28;01mraise\u001b[39;00m InvalidIndexError(key)\n\u001b[32m-> \u001b[39m\u001b[32m3812\u001b[39m     \u001b[38;5;28;01mraise\u001b[39;00m \u001b[38;5;167;01mKeyError\u001b[39;00m(key) \u001b[38;5;28;01mfrom\u001b[39;00m\u001b[38;5;250m \u001b[39m\u001b[34;01merr\u001b[39;00m\n\u001b[32m   3813\u001b[39m \u001b[38;5;28;01mexcept\u001b[39;00m \u001b[38;5;167;01mTypeError\u001b[39;00m:\n\u001b[32m   3814\u001b[39m     \u001b[38;5;66;03m# If we have a listlike key, _check_indexing_error will raise\u001b[39;00m\n\u001b[32m   3815\u001b[39m     \u001b[38;5;66;03m#  InvalidIndexError. Otherwise we fall through and re-raise\u001b[39;00m\n\u001b[32m   3816\u001b[39m     \u001b[38;5;66;03m#  the TypeError.\u001b[39;00m\n\u001b[32m   3817\u001b[39m     \u001b[38;5;28mself\u001b[39m._check_indexing_error(key)\n",
      "\u001b[31mKeyError\u001b[39m: 'sample_start_time_datum_cd'"
     ]
    }
   ],
   "source": [
    "# Choptank River near Greensboro, MD\n",
    "siteNumber = '01491000'\n",
    "chop_tank_info, md = nwis.get_info(sites=siteNumber)\n",
    "parameterCd = '00060'\n",
    "\n",
    "# raw daily data\n",
    "rawDailyData, md = nwis.get_dv(sites=siteNumber, parameterCd=parameterCd, start=\"1980-01-01\", end=\"2010-01-01\")\n",
    "\n",
    "# sample data Nitrate:\n",
    "parameterCd = \"00618\"\n",
    "qwData, md = nwis.get_qwdata(sites=siteNumber, parameterCd=parameterCd, start=\"1980-01-01\", end=\"2010-01-01\")\n",
    "\n",
    "pCode, md = nwis.get_pmcodes(parameterCd=parameterCd)"
   ]
  },
  {
   "cell_type": "code",
   "execution_count": null,
   "metadata": {},
   "outputs": [
    {
     "name": "stdout",
     "output_type": "stream",
     "text": [
      "Note: you may need to restart the kernel to use updated packages.\n"
     ]
    }
   ],
   "source": []
  },
  {
   "cell_type": "code",
   "execution_count": 9,
   "metadata": {},
   "outputs": [],
   "source": [
    "siteNumbers = [\"01491000\",\"01645000\"]\n",
    "siteINFO, md = nwis.get_iv(sites=siteNumbers)"
   ]
  },
  {
   "cell_type": "code",
   "execution_count": 10,
   "metadata": {},
   "outputs": [],
   "source": [
    "dailyDataAvailable, md = nwis.get_dv(sites=siteNumbers, statCd=\"00003\")"
   ]
  }
 ],
 "metadata": {
  "kernelspec": {
   "display_name": "Python 3",
   "language": "python",
   "name": "python3"
  },
  "language_info": {
   "codemirror_mode": {
    "name": "ipython",
    "version": 3
   },
   "file_extension": ".py",
   "mimetype": "text/x-python",
   "name": "python",
   "nbconvert_exporter": "python",
   "pygments_lexer": "ipython3",
   "version": "3.11.2"
  }
 },
 "nbformat": 4,
 "nbformat_minor": 2
}
