{
 "cells": [
  {
   "cell_type": "code",
   "execution_count": 1,
   "metadata": {},
   "outputs": [],
   "source": [
    "import pandas as pd\n",
    "import pypandoc\n",
    "import sys\n",
    "sys.path.append('../../../src')\n",
    "import cequalw2 as w2\n",
    "\n",
    "from statistics_report import generate_report"
   ]
  },
  {
   "cell_type": "code",
   "execution_count": 2,
   "metadata": {},
   "outputs": [],
   "source": [
    "# Example data for the report\n",
    "df1 = w2.read('../../../test/data/BerlinMilton2006/2006_DeerCrk_Qin.npt', 2006, ['Inflow'])\n",
    "df2 = w2.read('../../../test/data/BerlinMilton2006/2006_DeerCrk_Cin.npt', 2006, ['TDS', 'SO4', 'Cl', 'ISS', 'OP', 'NH4', 'NOx', 'Fe', 'LDOM', 'RDOM', 'LPOM', 'RPOM', 'BG', 'DIAT', 'OTH', 'DO'])\n",
    "model_name = \"CE-QUAL-W2\"\n",
    "location = \"Berlin and Milton\"\n",
    "time_period = \"2006\"\n",
    "\n",
    "# Generate the report\n",
    "report = generate_report([df1, df2], model_name=model_name, location=location, time_period=time_period,\n",
    "    table_font_size=10)\n",
    "\n",
    "# Save the report to a file\n",
    "report.save(\"water_quality_report.docx\")"
   ]
  },
  {
   "cell_type": "code",
   "execution_count": 3,
   "metadata": {},
   "outputs": [
    {
     "data": {
      "text/plain": [
       "''"
      ]
     },
     "execution_count": 3,
     "metadata": {},
     "output_type": "execute_result"
    }
   ],
   "source": [
    "pypandoc.convert_file('water_quality_report.docx', 'pdf', outputfile='water_quality_report.pdf', extra_args=['--pdf-engine=xelatex', '-V', 'geometry:margin=1.5cm,landscape'])"
   ]
  },
  {
   "cell_type": "code",
   "execution_count": null,
   "metadata": {},
   "outputs": [],
   "source": []
  }
 ],
 "metadata": {
  "kernelspec": {
   "display_name": "clearwater",
   "language": "python",
   "name": "python3"
  },
  "language_info": {
   "codemirror_mode": {
    "name": "ipython",
    "version": 3
   },
   "file_extension": ".py",
   "mimetype": "text/x-python",
   "name": "python",
   "nbconvert_exporter": "python",
   "pygments_lexer": "ipython3",
   "version": "3.11.3"
  },
  "orig_nbformat": 4
 },
 "nbformat": 4,
 "nbformat_minor": 2
}
