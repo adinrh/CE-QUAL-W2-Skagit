{
 "cells": [
  {
   "cell_type": "markdown",
   "metadata": {},
   "source": [
    "# DataFrame Interpolation and Merging Examples\n",
    "\n",
    "Reference: [https://stackabuse.com/how-to-merge-dataframes-in-pandas/](https://stackabuse.com/how-to-merge-dataframes-in-pandas/)"
   ]
  },
  {
   "cell_type": "code",
   "execution_count": 9,
   "metadata": {},
   "outputs": [],
   "source": [
    "import sqlite3\n",
    "import pandas as pd\n",
    "import w2\n",
    "\n",
    "def import_all_ascii_files_to_sql(database_name: str, plot_control_yaml: str, model_path: str, year: int, VERBOSE=False):\n",
    "    '''Read all files specified in the plot control file and save to tables in a SQLite database'''\n",
    "\n",
    "    connection = sqlite3.connect(database_name)\n",
    "\n",
    "    # Read the plot control file\n",
    "    control_df = w2.read_plot_control(plot_control_yaml)\n",
    "\n",
    "    # Iterate over the data frame, read each file, and save\n",
    "    # to the database\n",
    "    for row in control_df.iterrows():\n",
    "        # Get the plotting parameters\n",
    "        item = row[0]\n",
    "        params = row[1]\n",
    "        filename = params['Filename']\n",
    "        columns = params['Columns']\n",
    "\n",
    "        # Open and read file\n",
    "        inpath = os.path.join(model_path, filename)\n",
    "        if VERBOSE:\n",
    "            print(f'Reading {inpath}')\n",
    "        df = w2.read(inpath, year, columns)\n",
    "\n",
    "        # Write to database \n",
    "        df.to_sql(item, connection, if_exists='replace', index=True)\n",
    "    \n",
    "    connection.close()"
   ]
  },
  {
   "cell_type": "code",
   "execution_count": 10,
   "metadata": {},
   "outputs": [],
   "source": [
    "model_path = '/Users/todd/Documents/Work/Reviews/Studies/Pittsburgh_District/Mahoning_2022_review/Nov_review_files_from_Annett/Individual_Year_Models/BerlinMiltonLakes/2017'\n",
    "plot_control_file = 'plots_IndividualYears_BerlinMilton_2017.yaml'\n",
    "import_all_ascii_files_to_sql('w2_data.db', plot_control_file, model_path, 2017)"
   ]
  }
 ],
 "metadata": {
  "interpreter": {
   "hash": "e6c70388f1b84876e6f3105ac98ef15d4b7d1e2b6314ab62781b7fdf46969e65"
  },
  "kernelspec": {
   "display_name": "Python 3.9.9 ('clearwater')",
   "language": "python",
   "name": "python3"
  },
  "language_info": {
   "codemirror_mode": {
    "name": "ipython",
    "version": 3
   },
   "file_extension": ".py",
   "mimetype": "text/x-python",
   "name": "python",
   "nbconvert_exporter": "python",
   "pygments_lexer": "ipython3",
   "version": "3.9.9"
  },
  "orig_nbformat": 4
 },
 "nbformat": 4,
 "nbformat_minor": 2
}
